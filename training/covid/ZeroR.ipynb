{
 "cells": [
  {
   "cell_type": "code",
   "execution_count": 1,
   "id": "26b50424",
   "metadata": {},
   "outputs": [
    {
     "name": "stdout",
     "output_type": "stream",
     "text": [
      "all imported\n"
     ]
    }
   ],
   "source": [
    "from PIL import Image\n",
    "from numpy import asarray\n",
    "import numpy as np\n",
    "import os\n",
    "import keras\n",
    "from keras.layers import Dense, Conv2D, BatchNormalization, Activation\n",
    "from keras.layers import AveragePooling2D, Input, Flatten\n",
    "from tensorflow.keras.optimizers import Adam\n",
    "from keras.callbacks import ModelCheckpoint, LearningRateScheduler\n",
    "from keras.callbacks import ReduceLROnPlateau\n",
    "from keras.preprocessing.image import ImageDataGenerator\n",
    "from keras.regularizers import l2\n",
    "from keras import backend as K\n",
    "from keras.models import Model\n",
    "from keras.datasets import cifar10\n",
    "import numpy as np\n",
    "import os\n",
    "from keras.utils import np_utils\n",
    "from sklearn.metrics import precision_score\n",
    "from sklearn.metrics import recall_score\n",
    "# calculates f1 for 1:100 dataset with 95tp, 5fn, 55fp\n",
    "from sklearn.metrics import f1_score\n",
    "print('all imported')"
   ]
  },
  {
   "cell_type": "code",
   "execution_count": null,
   "id": "77a78f04",
   "metadata": {},
   "outputs": [],
   "source": []
  },
  {
   "cell_type": "code",
   "execution_count": 2,
   "id": "7848a500",
   "metadata": {},
   "outputs": [
    {
     "name": "stdout",
     "output_type": "stream",
     "text": [
      "['AnyConv.com__neg-0421-083-cough-m-53-0.wav', 'AnyConv.com__neg-0421-083-cough-m-53-1.wav', 'AnyConv.com__neg-0421-083-cough-m-53-11.wav', 'AnyConv.com__neg-0421-083-cough-m-53-12.wav', 'AnyConv.com__neg-0421-083-cough-m-53-13.wav']\n"
     ]
    }
   ],
   "source": [
    "listFiles = os.listdir('data/neg/')\n",
    "print(listFiles[:5])"
   ]
  },
  {
   "cell_type": "code",
   "execution_count": 3,
   "id": "969e904a",
   "metadata": {},
   "outputs": [],
   "source": [
    "listCancer = []\n",
    "listResults = []\n",
    "for elem in listFiles:\n",
    "    listResults += [1]"
   ]
  },
  {
   "cell_type": "code",
   "execution_count": 4,
   "id": "8301cc65",
   "metadata": {},
   "outputs": [
    {
     "name": "stdout",
     "output_type": "stream",
     "text": [
      "['AnyConv.com__pos-0421-084-cough-m-50-1.wav', 'AnyConv.com__pos-0421-084-cough-m-50-2.wav', 'AnyConv.com__pos-0421-084-cough-m-50-3.wav', 'AnyConv.com__pos-0421-084-cough-m-50-5.wav', 'AnyConv.com__pos-0421-084-cough-m-50-6.wav']\n"
     ]
    }
   ],
   "source": [
    "listFiles = os.listdir('data/pos/')\n",
    "print(listFiles[:5])\n",
    "for elem in listFiles:\n",
    "    listResults += [0]"
   ]
  },
  {
   "cell_type": "code",
   "execution_count": null,
   "id": "da86369b",
   "metadata": {},
   "outputs": [],
   "source": []
  },
  {
   "cell_type": "code",
   "execution_count": 5,
   "id": "d2b8eccb",
   "metadata": {},
   "outputs": [
    {
     "name": "stdout",
     "output_type": "stream",
     "text": [
      "[1, 1, 1, 1, 1, 1, 1, 1, 1, 1, 1, 1, 1, 1, 1, 1, 1, 1, 1, 1, 1, 1, 1, 1, 1, 1, 1, 1, 1, 1, 1, 1, 1, 1, 1, 1, 1, 1, 1, 1, 1, 1, 1, 1, 1, 1, 1, 1, 1, 1, 1, 1, 1, 1, 0, 0, 0, 0, 0, 0, 0, 0, 0, 0, 0, 0, 0, 0, 0, 0, 0, 0, 0, 0, 0, 0, 0, 0, 0, 0, 0, 0, 0, 0, 0, 0, 0, 0, 0, 0, 0, 0, 0, 0, 0, 0, 0]\n"
     ]
    }
   ],
   "source": [
    "print(listResults)"
   ]
  },
  {
   "cell_type": "code",
   "execution_count": 6,
   "id": "cd6d78dc",
   "metadata": {},
   "outputs": [],
   "source": [
    "import numpy as np\n",
    "lst = np.random.permutation(len(listResults))\n",
    "lst = list(lst)"
   ]
  },
  {
   "cell_type": "code",
   "execution_count": 7,
   "id": "8d2a15a3",
   "metadata": {},
   "outputs": [
    {
     "data": {
      "text/plain": [
       "[48,\n",
       " 51,\n",
       " 9,\n",
       " 91,\n",
       " 10,\n",
       " 61,\n",
       " 46,\n",
       " 89,\n",
       " 80,\n",
       " 15,\n",
       " 84,\n",
       " 12,\n",
       " 58,\n",
       " 79,\n",
       " 52,\n",
       " 94,\n",
       " 7,\n",
       " 18,\n",
       " 24,\n",
       " 64,\n",
       " 33,\n",
       " 59,\n",
       " 43,\n",
       " 32,\n",
       " 35,\n",
       " 22,\n",
       " 68,\n",
       " 34,\n",
       " 67,\n",
       " 76,\n",
       " 36,\n",
       " 40,\n",
       " 88,\n",
       " 21,\n",
       " 90,\n",
       " 78,\n",
       " 54,\n",
       " 96,\n",
       " 57,\n",
       " 42,\n",
       " 65,\n",
       " 14,\n",
       " 53,\n",
       " 56,\n",
       " 41,\n",
       " 19,\n",
       " 8,\n",
       " 4,\n",
       " 16,\n",
       " 31,\n",
       " 27,\n",
       " 62,\n",
       " 83,\n",
       " 44,\n",
       " 72,\n",
       " 82,\n",
       " 26,\n",
       " 85,\n",
       " 11,\n",
       " 0,\n",
       " 28,\n",
       " 47,\n",
       " 23,\n",
       " 87,\n",
       " 86,\n",
       " 49,\n",
       " 92,\n",
       " 63,\n",
       " 71,\n",
       " 3,\n",
       " 77,\n",
       " 50,\n",
       " 70,\n",
       " 30,\n",
       " 93,\n",
       " 74,\n",
       " 66,\n",
       " 17,\n",
       " 38,\n",
       " 13,\n",
       " 29,\n",
       " 39,\n",
       " 75,\n",
       " 6,\n",
       " 55,\n",
       " 69,\n",
       " 60,\n",
       " 95,\n",
       " 73,\n",
       " 2,\n",
       " 25,\n",
       " 81,\n",
       " 1,\n",
       " 20,\n",
       " 45,\n",
       " 5,\n",
       " 37]"
      ]
     },
     "execution_count": 7,
     "metadata": {},
     "output_type": "execute_result"
    }
   ],
   "source": [
    "lst"
   ]
  },
  {
   "cell_type": "code",
   "execution_count": 8,
   "id": "a8938842",
   "metadata": {},
   "outputs": [],
   "source": [
    "data = [listResults[i] for i in lst]"
   ]
  },
  {
   "cell_type": "code",
   "execution_count": 37,
   "id": "77add048",
   "metadata": {},
   "outputs": [
    {
     "name": "stdout",
     "output_type": "stream",
     "text": [
      "[0, 1, 1, 1, 0, 0, 1, 1, 1, 1, 1, 0, 1, 0, 1, 0, 0, 1, 0, 1, 0, 1, 1, 0, 0, 1, 1, 0, 1, 0, 1, 0, 1, 1, 0, 1, 0, 0, 0, 1, 1, 1, 1, 1, 1, 1, 0, 1, 1, 0, 1, 0, 1, 1, 1, 0, 1, 0]\n",
      "[0, 1, 1, 1, 0, 1, 0, 0, 0, 1, 0, 1, 0, 1, 1, 1, 0, 1, 0, 0, 0, 0, 1, 0, 1, 1, 0, 0, 0, 1, 1, 0, 0, 0, 1, 1, 0, 1, 1]\n"
     ]
    }
   ],
   "source": [
    "sz = (len(lst) * 60) // 100\n",
    "per = np.random.permutation(len(lst))\n",
    "train = [data[per[i]] for i in range(sz)]\n",
    "test = [data[per[i]] for i in range(sz, len(lst))]\n",
    "print(train)\n",
    "print(test)"
   ]
  },
  {
   "cell_type": "code",
   "execution_count": 38,
   "id": "88ecbcdc",
   "metadata": {},
   "outputs": [
    {
     "name": "stdout",
     "output_type": "stream",
     "text": [
      "acc:  0.48717948717948717\n",
      "precision:  0.23734385272846809\n",
      "recall:  0.48717948717948717\n"
     ]
    },
    {
     "name": "stderr",
     "output_type": "stream",
     "text": [
      "c:\\users\\patcas rares\\appdata\\local\\programs\\python\\python39\\lib\\site-packages\\sklearn\\metrics\\_classification.py:1245: UndefinedMetricWarning: Precision is ill-defined and being set to 0.0 in labels with no predicted samples. Use `zero_division` parameter to control this behavior.\n",
      "  _warn_prf(average, modifier, msg_start, len(result))\n"
     ]
    }
   ],
   "source": [
    "from statistics import mode\n",
    "rsp = mode(train)\n",
    "pred = []\n",
    "for i in range(len(test)):\n",
    "    pred+=[rsp]\n",
    "acc = 0\n",
    "for i in range(len(test)):\n",
    "    if pred[i] == test[i]:\n",
    "        acc+=1\n",
    "acc = acc / len(test)\n",
    "acc\n",
    "precision = precision_score(test, pred, average='weighted')\n",
    "recall = recall_score(test, pred, average='weighted')\n",
    "print(\"acc: \", acc)\n",
    "print(\"precision: \", precision)\n",
    "print(\"recall: \", recall)"
   ]
  },
  {
   "cell_type": "code",
   "execution_count": null,
   "id": "4bf4d7a0",
   "metadata": {},
   "outputs": [],
   "source": []
  }
 ],
 "metadata": {
  "kernelspec": {
   "display_name": "Python 3",
   "language": "python",
   "name": "python3"
  },
  "language_info": {
   "codemirror_mode": {
    "name": "ipython",
    "version": 3
   },
   "file_extension": ".py",
   "mimetype": "text/x-python",
   "name": "python",
   "nbconvert_exporter": "python",
   "pygments_lexer": "ipython3",
   "version": "3.9.4"
  }
 },
 "nbformat": 4,
 "nbformat_minor": 5
}
